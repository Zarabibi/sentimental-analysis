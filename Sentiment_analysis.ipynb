{
  "nbformat": 4,
  "nbformat_minor": 0,
  "metadata": {
    "colab": {
      "provenance": [],
      "authorship_tag": "ABX9TyNNagkclUp3fhKar/3Eunus",
      "include_colab_link": true
    },
    "kernelspec": {
      "name": "python3",
      "display_name": "Python 3"
    },
    "language_info": {
      "name": "python"
    }
  },
  "cells": [
    {
      "cell_type": "markdown",
      "metadata": {
        "id": "view-in-github",
        "colab_type": "text"
      },
      "source": [
        "<a href=\"https://colab.research.google.com/github/Zarabibi/sentimental-analysis/blob/main/Sentiment_analysis.ipynb\" target=\"_parent\"><img src=\"https://colab.research.google.com/assets/colab-badge.svg\" alt=\"Open In Colab\"/></a>"
      ]
    },
    {
      "cell_type": "code",
      "execution_count": 1,
      "metadata": {
        "colab": {
          "base_uri": "https://localhost:8080/"
        },
        "id": "Z12blXYVRv-j",
        "outputId": "2e586dd6-ae03-47b8-e0ab-49829bad0bed"
      },
      "outputs": [
        {
          "output_type": "stream",
          "name": "stdout",
          "text": [
            "Mounted at /content/drive\n"
          ]
        }
      ],
      "source": [
        "from google.colab import drive\n",
        "drive.mount('/content/drive')"
      ]
    },
    {
      "cell_type": "code",
      "source": [
        "import pandas as pd\n",
        "data = pd.read_csv('/content/youtube_data.csv')"
      ],
      "metadata": {
        "id": "vrrqvamTV44z"
      },
      "execution_count": 2,
      "outputs": []
    },
    {
      "cell_type": "code",
      "source": [
        "pip install nltk pandas\n"
      ],
      "metadata": {
        "colab": {
          "base_uri": "https://localhost:8080/"
        },
        "id": "b-8g_wsWWNs9",
        "outputId": "ffb9762c-212a-4320-a11a-82f19d4a28ed"
      },
      "execution_count": 3,
      "outputs": [
        {
          "output_type": "stream",
          "name": "stdout",
          "text": [
            "Requirement already satisfied: nltk in /usr/local/lib/python3.11/dist-packages (3.9.1)\n",
            "Requirement already satisfied: pandas in /usr/local/lib/python3.11/dist-packages (2.2.2)\n",
            "Requirement already satisfied: click in /usr/local/lib/python3.11/dist-packages (from nltk) (8.2.1)\n",
            "Requirement already satisfied: joblib in /usr/local/lib/python3.11/dist-packages (from nltk) (1.5.1)\n",
            "Requirement already satisfied: regex>=2021.8.3 in /usr/local/lib/python3.11/dist-packages (from nltk) (2024.11.6)\n",
            "Requirement already satisfied: tqdm in /usr/local/lib/python3.11/dist-packages (from nltk) (4.67.1)\n",
            "Requirement already satisfied: numpy>=1.23.2 in /usr/local/lib/python3.11/dist-packages (from pandas) (2.0.2)\n",
            "Requirement already satisfied: python-dateutil>=2.8.2 in /usr/local/lib/python3.11/dist-packages (from pandas) (2.9.0.post0)\n",
            "Requirement already satisfied: pytz>=2020.1 in /usr/local/lib/python3.11/dist-packages (from pandas) (2025.2)\n",
            "Requirement already satisfied: tzdata>=2022.7 in /usr/local/lib/python3.11/dist-packages (from pandas) (2025.2)\n",
            "Requirement already satisfied: six>=1.5 in /usr/local/lib/python3.11/dist-packages (from python-dateutil>=2.8.2->pandas) (1.17.0)\n"
          ]
        }
      ]
    },
    {
      "cell_type": "code",
      "source": [
        "import nltk\n",
        "nltk.download('vader_lexicon')\n"
      ],
      "metadata": {
        "colab": {
          "base_uri": "https://localhost:8080/"
        },
        "id": "P8S9nLDZWgIa",
        "outputId": "2471c714-ff74-4ba3-b09e-aea4aed72e90"
      },
      "execution_count": 5,
      "outputs": [
        {
          "output_type": "stream",
          "name": "stderr",
          "text": [
            "[nltk_data] Downloading package vader_lexicon to /root/nltk_data...\n"
          ]
        },
        {
          "output_type": "execute_result",
          "data": {
            "text/plain": [
              "True"
            ]
          },
          "metadata": {},
          "execution_count": 5
        }
      ]
    },
    {
      "cell_type": "code",
      "source": [
        "results = []\n",
        "for comment in data['description']:\n",
        "    score = sia.polarity_scores(comment)['compound']\n",
        "    if score > 0.05:\n",
        "        label = 'positive'\n",
        "    elif score < -0.05:\n",
        "        label = 'negative'\n",
        "    else:\n",
        "        label = 'neutral'\n",
        "    results.append({'comment': comment, 'sentiment': label})\n",
        "\n",
        "# Convert results to DataFrame for easy viewing\n",
        "results_df = pd.DataFrame(results)\n",
        "print(results_df)"
      ],
      "metadata": {
        "colab": {
          "base_uri": "https://localhost:8080/"
        },
        "id": "d0gg4s_DXRPE",
        "outputId": "d0c4ef97-33a1-4815-c6af-ccc24e033d2b"
      },
      "execution_count": 11,
      "outputs": [
        {
          "output_type": "stream",
          "name": "stdout",
          "text": [
            "                                               comment sentiment\n",
            "0                             No description available  negative\n",
            "1    Andrew Yang, Forward Party co-chair and former...  positive\n",
            "2    #shorts #technology \\n\\nI spend a LOT of time ...  positive\n",
            "3    💬 Join my Discord server: https://discord.gg/g...  positive\n",
            "4    Discover the revolutionary world of augmented ...   neutral\n",
            "..                                                 ...       ...\n",
            "595  Canal principal: https://www.youtube.com/c/Pon...   neutral\n",
            "596  🕹️ Old Tech That Still Works – Built to Last!\\...  positive\n",
            "597                           No description available  negative\n",
            "598                           No description available  negative\n",
            "599                           No description available  negative\n",
            "\n",
            "[600 rows x 2 columns]\n"
          ]
        }
      ]
    },
    {
      "cell_type": "code",
      "source": [
        "import pandas as pd\n",
        "import nltk\n",
        "import matplotlib.pyplot as plt\n",
        "from nltk.sentiment import SentimentIntensityAnalyzer\n",
        "\n",
        "# Download VADER lexicon if not already downloaded\n",
        "nltk.download('vader_lexicon')\n",
        "\n",
        "# Initialize Sentiment Analyzer\n",
        "sia = SentimentIntensityAnalyzer()\n",
        "\n",
        "# Analyze sentiment and store results\n",
        "sentiments = []\n",
        "for comment in  data ['description']:\n",
        "    score = sia.polarity_scores(comment)['compound']\n",
        "    if score > 0.05:\n",
        "        sentiments.append('positive')\n",
        "    elif score < -0.05:\n",
        "        sentiments.append('negative')\n",
        "    else:\n",
        "        sentiments.append('neutral')\n",
        "\n",
        "# Add sentiment results to DataFrame\n",
        "df['sentiment'] = sentiments\n",
        "\n",
        "# Count each sentiment\n",
        "sentiment_counts = df['sentiment'].value_counts()\n",
        "\n",
        "# Plot the results\n",
        "plt.figure(figsize=(6,4))\n",
        "sentiment_counts.plot(kind='bar', color=['green', 'red', 'gray'])\n",
        "plt.title('Sentiment Analysis of YouTube Comments')\n",
        "plt.xlabel('Sentiment')\n",
        "plt.ylabel('Number of Comments')\n",
        "plt.xticks(rotation=0)\n",
        "plt.tight_layout()\n",
        "plt.show()\n"
      ],
      "metadata": {
        "colab": {
          "base_uri": "https://localhost:8080/",
          "height": 442
        },
        "id": "qPWWh2NLYO-s",
        "outputId": "e51ef5eb-6578-4c3c-ec28-72a7988cc6f7"
      },
      "execution_count": 24,
      "outputs": [
        {
          "output_type": "stream",
          "name": "stderr",
          "text": [
            "[nltk_data] Downloading package vader_lexicon to /root/nltk_data...\n",
            "[nltk_data]   Package vader_lexicon is already up-to-date!\n"
          ]
        },
        {
          "output_type": "display_data",
          "data": {
            "text/plain": [
              "<Figure size 600x400 with 1 Axes>"
            ],
            "image/png": "[encoded data removed]"
          },
          "metadata": {}
        }
      ]
    }
  ]
}